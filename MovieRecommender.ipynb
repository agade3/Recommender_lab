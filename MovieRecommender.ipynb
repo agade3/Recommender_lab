{
 "cells": [
  {
   "cell_type": "code",
   "execution_count": 31,
   "metadata": {
    "collapsed": false
   },
   "outputs": [],
   "source": [
    "import pandas as pd\n",
    "import numpy as np"
   ]
  },
  {
   "cell_type": "code",
   "execution_count": 32,
   "metadata": {
    "collapsed": false
   },
   "outputs": [],
   "source": [
    "M = pd.read_csv('Movie Reviews - Sheet1.csv', index_col='Name')"
   ]
  },
  {
   "cell_type": "code",
   "execution_count": 33,
   "metadata": {
    "collapsed": false
   },
   "outputs": [],
   "source": [
    "def pearson(s1, s2):\n",
    "    \"\"\"Take two pd.Series objects and return a pearson correlation.\"\"\"\n",
    "    s1_c = s1 - s1.mean()\n",
    "    s2_c = s2 - s2.mean()\n",
    "    return np.sum(s1_c * s2_c) / np.sqrt(np.sum(s1_c ** 2) * np.sum(s2_c ** 2))"
   ]
  },
  {
   "cell_type": "code",
   "execution_count": 34,
   "metadata": {
    "collapsed": false
   },
   "outputs": [
    {
     "data": {
      "text/html": [
       "<div style=\"max-height:1000px;max-width:1500px;overflow:auto;\">\n",
       "<table border=\"1\" class=\"dataframe\">\n",
       "  <thead>\n",
       "    <tr style=\"text-align: right;\">\n",
       "      <th></th>\n",
       "      <th>American Sniper</th>\n",
       "      <th>The Hunger Games: Mockingjay - Part 1</th>\n",
       "      <th>Guardians of the Galaxy</th>\n",
       "      <th>The Lego Movie</th>\n",
       "      <th>The Hobbit</th>\n",
       "      <th>Transformers</th>\n",
       "      <th>Malificent</th>\n",
       "      <th>Big Hero 6</th>\n",
       "      <th>Godzilla</th>\n",
       "      <th>Interstellar</th>\n",
       "      <th>How to Train your Dragon 2</th>\n",
       "      <th>Gone Girl</th>\n",
       "      <th>Divergent</th>\n",
       "      <th>The Fault in Our Stars</th>\n",
       "      <th>Unbroken</th>\n",
       "      <th>300: Rise of an Empire</th>\n",
       "    </tr>\n",
       "    <tr>\n",
       "      <th>Name</th>\n",
       "      <th></th>\n",
       "      <th></th>\n",
       "      <th></th>\n",
       "      <th></th>\n",
       "      <th></th>\n",
       "      <th></th>\n",
       "      <th></th>\n",
       "      <th></th>\n",
       "      <th></th>\n",
       "      <th></th>\n",
       "      <th></th>\n",
       "      <th></th>\n",
       "      <th></th>\n",
       "      <th></th>\n",
       "      <th></th>\n",
       "      <th></th>\n",
       "    </tr>\n",
       "  </thead>\n",
       "  <tbody>\n",
       "    <tr>\n",
       "      <th>Mike</th>\n",
       "      <td>NaN</td>\n",
       "      <td>NaN</td>\n",
       "      <td>  5</td>\n",
       "      <td>NaN</td>\n",
       "      <td>  4</td>\n",
       "      <td>NaN</td>\n",
       "      <td>  3</td>\n",
       "      <td>NaN</td>\n",
       "      <td>NaN</td>\n",
       "      <td>NaN</td>\n",
       "      <td>NaN</td>\n",
       "      <td>NaN</td>\n",
       "      <td>  3</td>\n",
       "      <td>NaN</td>\n",
       "      <td>NaN</td>\n",
       "      <td>  2</td>\n",
       "    </tr>\n",
       "    <tr>\n",
       "      <th>HJ SONG</th>\n",
       "      <td>NaN</td>\n",
       "      <td>  2</td>\n",
       "      <td>  3</td>\n",
       "      <td>  4</td>\n",
       "      <td>  4</td>\n",
       "      <td>  5</td>\n",
       "      <td>NaN</td>\n",
       "      <td>  4</td>\n",
       "      <td>  4</td>\n",
       "      <td>  5</td>\n",
       "      <td>  5</td>\n",
       "      <td>NaN</td>\n",
       "      <td>NaN</td>\n",
       "      <td>NaN</td>\n",
       "      <td>  5</td>\n",
       "      <td>  5</td>\n",
       "    </tr>\n",
       "    <tr>\n",
       "      <th>Ryan Hansen</th>\n",
       "      <td>NaN</td>\n",
       "      <td>  3</td>\n",
       "      <td>  4</td>\n",
       "      <td>  3</td>\n",
       "      <td>  5</td>\n",
       "      <td>  2</td>\n",
       "      <td>  3</td>\n",
       "      <td>  3</td>\n",
       "      <td>  3</td>\n",
       "      <td>NaN</td>\n",
       "      <td>  5</td>\n",
       "      <td>NaN</td>\n",
       "      <td>  3</td>\n",
       "      <td>NaN</td>\n",
       "      <td>NaN</td>\n",
       "      <td>NaN</td>\n",
       "    </tr>\n",
       "    <tr>\n",
       "      <th>Olumuyiwa Durojaiye</th>\n",
       "      <td>NaN</td>\n",
       "      <td>NaN</td>\n",
       "      <td>NaN</td>\n",
       "      <td>NaN</td>\n",
       "      <td>NaN</td>\n",
       "      <td>  5</td>\n",
       "      <td>NaN</td>\n",
       "      <td>  5</td>\n",
       "      <td>  2</td>\n",
       "      <td>NaN</td>\n",
       "      <td>  3</td>\n",
       "      <td>NaN</td>\n",
       "      <td>NaN</td>\n",
       "      <td>NaN</td>\n",
       "      <td>NaN</td>\n",
       "      <td>  2</td>\n",
       "    </tr>\n",
       "    <tr>\n",
       "      <th>Charlie</th>\n",
       "      <td>NaN</td>\n",
       "      <td>  2</td>\n",
       "      <td>  3</td>\n",
       "      <td>NaN</td>\n",
       "      <td>  3</td>\n",
       "      <td>  2</td>\n",
       "      <td>  3</td>\n",
       "      <td>NaN</td>\n",
       "      <td>  4</td>\n",
       "      <td>  5</td>\n",
       "      <td>  2</td>\n",
       "      <td>NaN</td>\n",
       "      <td>  2</td>\n",
       "      <td>  3</td>\n",
       "      <td>NaN</td>\n",
       "      <td>  2</td>\n",
       "    </tr>\n",
       "    <tr>\n",
       "      <th>Sina Tuy</th>\n",
       "      <td>NaN</td>\n",
       "      <td>  3</td>\n",
       "      <td>  4</td>\n",
       "      <td>  3</td>\n",
       "      <td>  5</td>\n",
       "      <td>  2</td>\n",
       "      <td>  3</td>\n",
       "      <td>  4</td>\n",
       "      <td>  3</td>\n",
       "      <td>NaN</td>\n",
       "      <td>  3</td>\n",
       "      <td>  4</td>\n",
       "      <td>  3</td>\n",
       "      <td>  2</td>\n",
       "      <td>NaN</td>\n",
       "      <td>  2</td>\n",
       "    </tr>\n",
       "    <tr>\n",
       "      <th>Pavithra Shetty</th>\n",
       "      <td>NaN</td>\n",
       "      <td>  3</td>\n",
       "      <td>NaN</td>\n",
       "      <td>NaN</td>\n",
       "      <td>  4</td>\n",
       "      <td>  5</td>\n",
       "      <td>NaN</td>\n",
       "      <td>NaN</td>\n",
       "      <td>NaN</td>\n",
       "      <td>NaN</td>\n",
       "      <td>  5</td>\n",
       "      <td>NaN</td>\n",
       "      <td>NaN</td>\n",
       "      <td>NaN</td>\n",
       "      <td>NaN</td>\n",
       "      <td>NaN</td>\n",
       "    </tr>\n",
       "    <tr>\n",
       "      <th>Sara Collins</th>\n",
       "      <td>NaN</td>\n",
       "      <td>  5</td>\n",
       "      <td>  5</td>\n",
       "      <td>NaN</td>\n",
       "      <td>NaN</td>\n",
       "      <td>NaN</td>\n",
       "      <td>  2</td>\n",
       "      <td>NaN</td>\n",
       "      <td>NaN</td>\n",
       "      <td>NaN</td>\n",
       "      <td>NaN</td>\n",
       "      <td>NaN</td>\n",
       "      <td>NaN</td>\n",
       "      <td>  4</td>\n",
       "      <td>NaN</td>\n",
       "      <td>NaN</td>\n",
       "    </tr>\n",
       "    <tr>\n",
       "      <th>Jonathan Doll</th>\n",
       "      <td>NaN</td>\n",
       "      <td>  4</td>\n",
       "      <td>NaN</td>\n",
       "      <td>  3</td>\n",
       "      <td>  4</td>\n",
       "      <td>  2</td>\n",
       "      <td>NaN</td>\n",
       "      <td>NaN</td>\n",
       "      <td>NaN</td>\n",
       "      <td>NaN</td>\n",
       "      <td>  3</td>\n",
       "      <td>NaN</td>\n",
       "      <td>NaN</td>\n",
       "      <td>NaN</td>\n",
       "      <td>NaN</td>\n",
       "      <td>NaN</td>\n",
       "    </tr>\n",
       "    <tr>\n",
       "      <th>saikiran reddy</th>\n",
       "      <td>  3</td>\n",
       "      <td>  4</td>\n",
       "      <td>  4</td>\n",
       "      <td>NaN</td>\n",
       "      <td>  4</td>\n",
       "      <td>  5</td>\n",
       "      <td>  4</td>\n",
       "      <td>NaN</td>\n",
       "      <td>  5</td>\n",
       "      <td>  5</td>\n",
       "      <td>  4</td>\n",
       "      <td>  4</td>\n",
       "      <td>  2</td>\n",
       "      <td>  5</td>\n",
       "      <td>NaN</td>\n",
       "      <td>  2</td>\n",
       "    </tr>\n",
       "    <tr>\n",
       "      <th>Aishwarya reddy</th>\n",
       "      <td>NaN</td>\n",
       "      <td>  3</td>\n",
       "      <td>  4</td>\n",
       "      <td>  3</td>\n",
       "      <td>  4</td>\n",
       "      <td>  4</td>\n",
       "      <td>  3</td>\n",
       "      <td>NaN</td>\n",
       "      <td>  4</td>\n",
       "      <td>  4</td>\n",
       "      <td>  3</td>\n",
       "      <td>  5</td>\n",
       "      <td>NaN</td>\n",
       "      <td>  4</td>\n",
       "      <td>NaN</td>\n",
       "      <td>  3</td>\n",
       "    </tr>\n",
       "    <tr>\n",
       "      <th>Brant Mullinix</th>\n",
       "      <td>NaN</td>\n",
       "      <td>  4</td>\n",
       "      <td>  4</td>\n",
       "      <td>  4</td>\n",
       "      <td>  5</td>\n",
       "      <td>  3</td>\n",
       "      <td>NaN</td>\n",
       "      <td>NaN</td>\n",
       "      <td>NaN</td>\n",
       "      <td>  5</td>\n",
       "      <td>  3</td>\n",
       "      <td>  3</td>\n",
       "      <td>NaN</td>\n",
       "      <td>NaN</td>\n",
       "      <td>NaN</td>\n",
       "      <td>  4</td>\n",
       "    </tr>\n",
       "    <tr>\n",
       "      <th>Sai Sampath</th>\n",
       "      <td>NaN</td>\n",
       "      <td>  3</td>\n",
       "      <td>  4</td>\n",
       "      <td>  3</td>\n",
       "      <td>  4</td>\n",
       "      <td>  4</td>\n",
       "      <td>  3</td>\n",
       "      <td>NaN</td>\n",
       "      <td>  4</td>\n",
       "      <td>  4</td>\n",
       "      <td>  3</td>\n",
       "      <td>  5</td>\n",
       "      <td>NaN</td>\n",
       "      <td>  4</td>\n",
       "      <td>NaN</td>\n",
       "      <td>  3</td>\n",
       "    </tr>\n",
       "    <tr>\n",
       "      <th>Suyendra</th>\n",
       "      <td>NaN</td>\n",
       "      <td>  3</td>\n",
       "      <td>  4</td>\n",
       "      <td>  3</td>\n",
       "      <td>  5</td>\n",
       "      <td>  2</td>\n",
       "      <td>  3</td>\n",
       "      <td>  3</td>\n",
       "      <td>  3</td>\n",
       "      <td>NaN</td>\n",
       "      <td>  5</td>\n",
       "      <td>NaN</td>\n",
       "      <td>  3</td>\n",
       "      <td>  4</td>\n",
       "      <td>  2</td>\n",
       "      <td>  5</td>\n",
       "    </tr>\n",
       "    <tr>\n",
       "      <th>Sai Yallapragada</th>\n",
       "      <td>  5</td>\n",
       "      <td>  2</td>\n",
       "      <td>  2</td>\n",
       "      <td>  3</td>\n",
       "      <td>NaN</td>\n",
       "      <td>  3</td>\n",
       "      <td>NaN</td>\n",
       "      <td>NaN</td>\n",
       "      <td>  1</td>\n",
       "      <td>  5</td>\n",
       "      <td>NaN</td>\n",
       "      <td>NaN</td>\n",
       "      <td>  2</td>\n",
       "      <td>NaN</td>\n",
       "      <td>NaN</td>\n",
       "      <td>  4</td>\n",
       "    </tr>\n",
       "    <tr>\n",
       "      <th>Akhilesh</th>\n",
       "      <td>NaN</td>\n",
       "      <td>NaN</td>\n",
       "      <td>  4</td>\n",
       "      <td>  3</td>\n",
       "      <td>  5</td>\n",
       "      <td>  4</td>\n",
       "      <td>NaN</td>\n",
       "      <td>NaN</td>\n",
       "      <td>NaN</td>\n",
       "      <td>  5</td>\n",
       "      <td>NaN</td>\n",
       "      <td>  3</td>\n",
       "      <td>NaN</td>\n",
       "      <td>NaN</td>\n",
       "      <td>NaN</td>\n",
       "      <td>  5</td>\n",
       "    </tr>\n",
       "    <tr>\n",
       "      <th>Sundar Prasad</th>\n",
       "      <td>NaN</td>\n",
       "      <td>NaN</td>\n",
       "      <td>NaN</td>\n",
       "      <td>NaN</td>\n",
       "      <td>NaN</td>\n",
       "      <td>  5</td>\n",
       "      <td>NaN</td>\n",
       "      <td>NaN</td>\n",
       "      <td>  4</td>\n",
       "      <td>NaN</td>\n",
       "      <td>NaN</td>\n",
       "      <td>NaN</td>\n",
       "      <td>NaN</td>\n",
       "      <td>NaN</td>\n",
       "      <td>NaN</td>\n",
       "      <td>  4</td>\n",
       "    </tr>\n",
       "    <tr>\n",
       "      <th>Evan Piercy</th>\n",
       "      <td>  4</td>\n",
       "      <td>NaN</td>\n",
       "      <td>NaN</td>\n",
       "      <td>  4</td>\n",
       "      <td>NaN</td>\n",
       "      <td>  4</td>\n",
       "      <td>NaN</td>\n",
       "      <td>NaN</td>\n",
       "      <td>NaN</td>\n",
       "      <td>  5</td>\n",
       "      <td>NaN</td>\n",
       "      <td>  2</td>\n",
       "      <td>NaN</td>\n",
       "      <td>NaN</td>\n",
       "      <td>NaN</td>\n",
       "      <td>  2</td>\n",
       "    </tr>\n",
       "    <tr>\n",
       "      <th>Jessica Fong</th>\n",
       "      <td>NaN</td>\n",
       "      <td>  3</td>\n",
       "      <td>  3</td>\n",
       "      <td>NaN</td>\n",
       "      <td>NaN</td>\n",
       "      <td>  3</td>\n",
       "      <td>NaN</td>\n",
       "      <td>NaN</td>\n",
       "      <td>NaN</td>\n",
       "      <td>  5</td>\n",
       "      <td>NaN</td>\n",
       "      <td>NaN</td>\n",
       "      <td>  5</td>\n",
       "      <td>NaN</td>\n",
       "      <td>NaN</td>\n",
       "      <td>NaN</td>\n",
       "    </tr>\n",
       "    <tr>\n",
       "      <th>Onsiri Tapsarn</th>\n",
       "      <td>  3</td>\n",
       "      <td>NaN</td>\n",
       "      <td>NaN</td>\n",
       "      <td>NaN</td>\n",
       "      <td>NaN</td>\n",
       "      <td>NaN</td>\n",
       "      <td>NaN</td>\n",
       "      <td>NaN</td>\n",
       "      <td>NaN</td>\n",
       "      <td>NaN</td>\n",
       "      <td>NaN</td>\n",
       "      <td>  3</td>\n",
       "      <td>NaN</td>\n",
       "      <td>NaN</td>\n",
       "      <td>NaN</td>\n",
       "      <td>NaN</td>\n",
       "    </tr>\n",
       "    <tr>\n",
       "      <th>Anirudh Thota</th>\n",
       "      <td>NaN</td>\n",
       "      <td>  3</td>\n",
       "      <td>  4</td>\n",
       "      <td>  3</td>\n",
       "      <td>  3</td>\n",
       "      <td>  4</td>\n",
       "      <td>NaN</td>\n",
       "      <td>NaN</td>\n",
       "      <td>  3</td>\n",
       "      <td>  4</td>\n",
       "      <td>  3</td>\n",
       "      <td>NaN</td>\n",
       "      <td>NaN</td>\n",
       "      <td>NaN</td>\n",
       "      <td>NaN</td>\n",
       "      <td>  4</td>\n",
       "    </tr>\n",
       "    <tr>\n",
       "      <th>Greg Werner</th>\n",
       "      <td>  5</td>\n",
       "      <td>  3</td>\n",
       "      <td>  3</td>\n",
       "      <td>NaN</td>\n",
       "      <td>NaN</td>\n",
       "      <td>  4</td>\n",
       "      <td>  4</td>\n",
       "      <td>NaN</td>\n",
       "      <td>NaN</td>\n",
       "      <td>  5</td>\n",
       "      <td>  4</td>\n",
       "      <td>  5</td>\n",
       "      <td>  4</td>\n",
       "      <td>NaN</td>\n",
       "      <td>NaN</td>\n",
       "      <td>  4</td>\n",
       "    </tr>\n",
       "    <tr>\n",
       "      <th>Violeta Lee Fay</th>\n",
       "      <td>NaN</td>\n",
       "      <td>NaN</td>\n",
       "      <td>NaN</td>\n",
       "      <td>NaN</td>\n",
       "      <td>NaN</td>\n",
       "      <td>  5</td>\n",
       "      <td>NaN</td>\n",
       "      <td>NaN</td>\n",
       "      <td>  5</td>\n",
       "      <td>NaN</td>\n",
       "      <td>  3</td>\n",
       "      <td>NaN</td>\n",
       "      <td>NaN</td>\n",
       "      <td>NaN</td>\n",
       "      <td>NaN</td>\n",
       "      <td>  2</td>\n",
       "    </tr>\n",
       "  </tbody>\n",
       "</table>\n",
       "</div>"
      ],
      "text/plain": [
       "                     American Sniper  The Hunger Games: Mockingjay - Part 1  \\\n",
       "Name                                                                          \n",
       "Mike                             NaN                                    NaN   \n",
       "HJ SONG                          NaN                                      2   \n",
       "Ryan Hansen                      NaN                                      3   \n",
       "Olumuyiwa Durojaiye              NaN                                    NaN   \n",
       "Charlie                          NaN                                      2   \n",
       "Sina Tuy                         NaN                                      3   \n",
       "Pavithra Shetty                  NaN                                      3   \n",
       "Sara Collins                     NaN                                      5   \n",
       "Jonathan Doll                    NaN                                      4   \n",
       "saikiran reddy                     3                                      4   \n",
       "Aishwarya reddy                  NaN                                      3   \n",
       "Brant Mullinix                   NaN                                      4   \n",
       "Sai Sampath                      NaN                                      3   \n",
       "Suyendra                         NaN                                      3   \n",
       "Sai Yallapragada                   5                                      2   \n",
       "Akhilesh                         NaN                                    NaN   \n",
       "Sundar Prasad                    NaN                                    NaN   \n",
       "Evan Piercy                        4                                    NaN   \n",
       "Jessica Fong                     NaN                                      3   \n",
       "Onsiri Tapsarn                     3                                    NaN   \n",
       "Anirudh Thota                    NaN                                      3   \n",
       "Greg Werner                        5                                      3   \n",
       "Violeta Lee Fay                  NaN                                    NaN   \n",
       "\n",
       "                     Guardians of the Galaxy  The Lego Movie  The Hobbit  \\\n",
       "Name                                                                       \n",
       "Mike                                       5             NaN           4   \n",
       "HJ SONG                                    3               4           4   \n",
       "Ryan Hansen                                4               3           5   \n",
       "Olumuyiwa Durojaiye                      NaN             NaN         NaN   \n",
       "Charlie                                    3             NaN           3   \n",
       "Sina Tuy                                   4               3           5   \n",
       "Pavithra Shetty                          NaN             NaN           4   \n",
       "Sara Collins                               5             NaN         NaN   \n",
       "Jonathan Doll                            NaN               3           4   \n",
       "saikiran reddy                             4             NaN           4   \n",
       "Aishwarya reddy                            4               3           4   \n",
       "Brant Mullinix                             4               4           5   \n",
       "Sai Sampath                                4               3           4   \n",
       "Suyendra                                   4               3           5   \n",
       "Sai Yallapragada                           2               3         NaN   \n",
       "Akhilesh                                   4               3           5   \n",
       "Sundar Prasad                            NaN             NaN         NaN   \n",
       "Evan Piercy                              NaN               4         NaN   \n",
       "Jessica Fong                               3             NaN         NaN   \n",
       "Onsiri Tapsarn                           NaN             NaN         NaN   \n",
       "Anirudh Thota                              4               3           3   \n",
       "Greg Werner                                3             NaN         NaN   \n",
       "Violeta Lee Fay                          NaN             NaN         NaN   \n",
       "\n",
       "                     Transformers  Malificent  Big Hero 6  Godzilla  \\\n",
       "Name                                                                  \n",
       "Mike                          NaN           3         NaN       NaN   \n",
       "HJ SONG                         5         NaN           4         4   \n",
       "Ryan Hansen                     2           3           3         3   \n",
       "Olumuyiwa Durojaiye             5         NaN           5         2   \n",
       "Charlie                         2           3         NaN         4   \n",
       "Sina Tuy                        2           3           4         3   \n",
       "Pavithra Shetty                 5         NaN         NaN       NaN   \n",
       "Sara Collins                  NaN           2         NaN       NaN   \n",
       "Jonathan Doll                   2         NaN         NaN       NaN   \n",
       "saikiran reddy                  5           4         NaN         5   \n",
       "Aishwarya reddy                 4           3         NaN         4   \n",
       "Brant Mullinix                  3         NaN         NaN       NaN   \n",
       "Sai Sampath                     4           3         NaN         4   \n",
       "Suyendra                        2           3           3         3   \n",
       "Sai Yallapragada                3         NaN         NaN         1   \n",
       "Akhilesh                        4         NaN         NaN       NaN   \n",
       "Sundar Prasad                   5         NaN         NaN         4   \n",
       "Evan Piercy                     4         NaN         NaN       NaN   \n",
       "Jessica Fong                    3         NaN         NaN       NaN   \n",
       "Onsiri Tapsarn                NaN         NaN         NaN       NaN   \n",
       "Anirudh Thota                   4         NaN         NaN         3   \n",
       "Greg Werner                     4           4         NaN       NaN   \n",
       "Violeta Lee Fay                 5         NaN         NaN         5   \n",
       "\n",
       "                     Interstellar  How to Train your Dragon 2  Gone Girl  \\\n",
       "Name                                                                       \n",
       "Mike                          NaN                         NaN        NaN   \n",
       "HJ SONG                         5                           5        NaN   \n",
       "Ryan Hansen                   NaN                           5        NaN   \n",
       "Olumuyiwa Durojaiye           NaN                           3        NaN   \n",
       "Charlie                         5                           2        NaN   \n",
       "Sina Tuy                      NaN                           3          4   \n",
       "Pavithra Shetty               NaN                           5        NaN   \n",
       "Sara Collins                  NaN                         NaN        NaN   \n",
       "Jonathan Doll                 NaN                           3        NaN   \n",
       "saikiran reddy                  5                           4          4   \n",
       "Aishwarya reddy                 4                           3          5   \n",
       "Brant Mullinix                  5                           3          3   \n",
       "Sai Sampath                     4                           3          5   \n",
       "Suyendra                      NaN                           5        NaN   \n",
       "Sai Yallapragada                5                         NaN        NaN   \n",
       "Akhilesh                        5                         NaN          3   \n",
       "Sundar Prasad                 NaN                         NaN        NaN   \n",
       "Evan Piercy                     5                         NaN          2   \n",
       "Jessica Fong                    5                         NaN        NaN   \n",
       "Onsiri Tapsarn                NaN                         NaN          3   \n",
       "Anirudh Thota                   4                           3        NaN   \n",
       "Greg Werner                     5                           4          5   \n",
       "Violeta Lee Fay               NaN                           3        NaN   \n",
       "\n",
       "                     Divergent  The Fault in Our Stars  Unbroken  \\\n",
       "Name                                                               \n",
       "Mike                         3                     NaN       NaN   \n",
       "HJ SONG                    NaN                     NaN         5   \n",
       "Ryan Hansen                  3                     NaN       NaN   \n",
       "Olumuyiwa Durojaiye        NaN                     NaN       NaN   \n",
       "Charlie                      2                       3       NaN   \n",
       "Sina Tuy                     3                       2       NaN   \n",
       "Pavithra Shetty            NaN                     NaN       NaN   \n",
       "Sara Collins               NaN                       4       NaN   \n",
       "Jonathan Doll              NaN                     NaN       NaN   \n",
       "saikiran reddy               2                       5       NaN   \n",
       "Aishwarya reddy            NaN                       4       NaN   \n",
       "Brant Mullinix             NaN                     NaN       NaN   \n",
       "Sai Sampath                NaN                       4       NaN   \n",
       "Suyendra                     3                       4         2   \n",
       "Sai Yallapragada             2                     NaN       NaN   \n",
       "Akhilesh                   NaN                     NaN       NaN   \n",
       "Sundar Prasad              NaN                     NaN       NaN   \n",
       "Evan Piercy                NaN                     NaN       NaN   \n",
       "Jessica Fong                 5                     NaN       NaN   \n",
       "Onsiri Tapsarn             NaN                     NaN       NaN   \n",
       "Anirudh Thota              NaN                     NaN       NaN   \n",
       "Greg Werner                  4                     NaN       NaN   \n",
       "Violeta Lee Fay            NaN                     NaN       NaN   \n",
       "\n",
       "                     300: Rise of an Empire  \n",
       "Name                                         \n",
       "Mike                                      2  \n",
       "HJ SONG                                   5  \n",
       "Ryan Hansen                             NaN  \n",
       "Olumuyiwa Durojaiye                       2  \n",
       "Charlie                                   2  \n",
       "Sina Tuy                                  2  \n",
       "Pavithra Shetty                         NaN  \n",
       "Sara Collins                            NaN  \n",
       "Jonathan Doll                           NaN  \n",
       "saikiran reddy                            2  \n",
       "Aishwarya reddy                           3  \n",
       "Brant Mullinix                            4  \n",
       "Sai Sampath                               3  \n",
       "Suyendra                                  5  \n",
       "Sai Yallapragada                          4  \n",
       "Akhilesh                                  5  \n",
       "Sundar Prasad                             4  \n",
       "Evan Piercy                               2  \n",
       "Jessica Fong                            NaN  \n",
       "Onsiri Tapsarn                          NaN  \n",
       "Anirudh Thota                             4  \n",
       "Greg Werner                               4  \n",
       "Violeta Lee Fay                           2  "
      ]
     },
     "execution_count": 34,
     "metadata": {},
     "output_type": "execute_result"
    }
   ],
   "source": [
    "M"
   ]
  },
  {
   "cell_type": "code",
   "execution_count": 35,
   "metadata": {
    "collapsed": false
   },
   "outputs": [],
   "source": [
    "def get_recs(movie_name, M, num):\n",
    "\n",
    "    import numpy as np\n",
    "    reviews = []\n",
    "    for title in M.columns:\n",
    "        if title == movie_name:\n",
    "            continue\n",
    "        cor = pearson(M[movie_name], M[title])\n",
    "        if np.isnan(cor):\n",
    "            continue\n",
    "        else:\n",
    "            reviews.append((title, cor))\n",
    "    \n",
    "    reviews.sort(key=lambda tup: tup[1], reverse=True)\n",
    "    return reviews[:num]\n",
    "\n",
    "    "
   ]
  },
  {
   "cell_type": "markdown",
   "metadata": {},
   "source": [
    "What movie is most Similar to 'The fault in our stars' "
   ]
  },
  {
   "cell_type": "code",
   "execution_count": 36,
   "metadata": {
    "collapsed": false
   },
   "outputs": [
    {
     "data": {
      "text/plain": [
       "(23, 16)"
      ]
     },
     "execution_count": 36,
     "metadata": {},
     "output_type": "execute_result"
    }
   ],
   "source": [
    "M.shape"
   ]
  },
  {
   "cell_type": "code",
   "execution_count": 38,
   "metadata": {
    "collapsed": false
   },
   "outputs": [],
   "source": [
    "recs = get_recs('The Fault in Our Stars', M, 10)"
   ]
  },
  {
   "cell_type": "code",
   "execution_count": 39,
   "metadata": {
    "collapsed": false
   },
   "outputs": [
    {
     "data": {
      "text/plain": [
       "[('Transformers', 0.45574896698689149)]"
      ]
     },
     "execution_count": 39,
     "metadata": {},
     "output_type": "execute_result"
    }
   ],
   "source": [
    "recs[:1]"
   ]
  },
  {
   "cell_type": "code",
   "execution_count": 40,
   "metadata": {
    "collapsed": false
   },
   "outputs": [
    {
     "data": {
      "text/plain": [
       "[('Transformers', 0.45574896698689149),\n",
       " ('The Hunger Games: Mockingjay - Part 1', 0.35345113364519332),\n",
       " ('How to Train your Dragon 2', 0.31922063429064507),\n",
       " ('Godzilla', 0.28158585271367448),\n",
       " ('Malificent', 0.25203347226782336)]"
      ]
     },
     "execution_count": 40,
     "metadata": {},
     "output_type": "execute_result"
    }
   ],
   "source": [
    "recs[:5]"
   ]
  },
  {
   "cell_type": "markdown",
   "metadata": {},
   "source": [
    "By comparing the above result we can say that similar film to the fault in the stars is Transformers"
   ]
  },
  {
   "cell_type": "markdown",
   "metadata": {},
   "source": [
    "# Which movie(s) would you most like to see, based on your classmates experience?"
   ]
  },
  {
   "cell_type": "code",
   "execution_count": 41,
   "metadata": {
    "collapsed": false
   },
   "outputs": [],
   "source": [
    "#the movies I've seen\n",
    "my_ratings = M.ix['Aishwarya reddy'].dropna()\n",
    "#the movie I've rated the highest\n",
    "my_ratings.sort(ascending=False)\n",
    "#the name of the movie I've rated the highest\n",
    "fav_movie = my_ratings.index[0]"
   ]
  },
  {
   "cell_type": "code",
   "execution_count": 42,
   "metadata": {
    "collapsed": false
   },
   "outputs": [
    {
     "name": "stdout",
     "output_type": "stream",
     "text": [
      "Aishwarya favorite movie is:\n"
     ]
    },
    {
     "data": {
      "text/plain": [
       "'Gone Girl'"
      ]
     },
     "execution_count": 42,
     "metadata": {},
     "output_type": "execute_result"
    }
   ],
   "source": [
    "print \"Aishwarya favorite movie is:\"\n",
    "fav_movie"
   ]
  },
  {
   "cell_type": "code",
   "execution_count": 43,
   "metadata": {
    "collapsed": false
   },
   "outputs": [
    {
     "data": {
      "text/plain": [
       "[('American Sniper', 0.28755406187583576),\n",
       " ('Malificent', 0.19629691272934724),\n",
       " ('Godzilla', 0.12894266332234663),\n",
       " ('Divergent', 0.1143739277494535),\n",
       " ('The Fault in Our Stars', 0.083747586093265186),\n",
       " ('Transformers', 0.051970097273089301),\n",
       " ('Big Hero 6', 0.008592321037107796),\n",
       " ('300: Rise of an Empire', 0.0026418811480546814),\n",
       " ('How to Train your Dragon 2', -0.048733776789327568),\n",
       " ('Guardians of the Galaxy', -0.062902451035339063)]"
      ]
     },
     "execution_count": 43,
     "metadata": {},
     "output_type": "execute_result"
    }
   ],
   "source": [
    "recs = get_recs(fav_movie, M, 10)\n",
    "recs[:10]"
   ]
  },
  {
   "cell_type": "code",
   "execution_count": 44,
   "metadata": {
    "collapsed": false
   },
   "outputs": [],
   "source": [
    "anti_recs = get_recs('300: Rise of an Empire', M, 25)"
   ]
  },
  {
   "cell_type": "code",
   "execution_count": 45,
   "metadata": {
    "collapsed": false
   },
   "outputs": [
    {
     "data": {
      "text/plain": [
       "[('Interstellar', 0.042874646285627219),\n",
       " ('The Lego Movie', 0.018374848408125945),\n",
       " ('Gone Girl', 0.0026418811480546814),\n",
       " ('Unbroken', 0.0),\n",
       " ('Malificent', -0.022299503865922835),\n",
       " ('Transformers', -0.034828748382057691),\n",
       " ('The Hunger Games: Mockingjay - Part 1', -0.13779914752061276),\n",
       " ('Godzilla', -0.21513245763527367),\n",
       " ('Guardians of the Galaxy', -0.2307064300131369),\n",
       " ('Big Hero 6', -0.34700188325127984)]"
      ]
     },
     "execution_count": 45,
     "metadata": {},
     "output_type": "execute_result"
    }
   ],
   "source": [
    "anti_recs[-10:]"
   ]
  },
  {
   "cell_type": "markdown",
   "metadata": {},
   "source": [
    "# For all the movies you haven't seen, can you predict how you'd rate them using your the class reviews?"
   ]
  },
  {
   "cell_type": "code",
   "execution_count": 46,
   "metadata": {
    "collapsed": false
   },
   "outputs": [],
   "source": [
    "UnRated_Movies = M.ix['Aishwarya reddy']\n",
    "UnRated_Movies.sort()\n",
    "for i in range(0, UnRated_Movies.count(), 1):\n",
    "    UnRated_Movies.drop(UnRated_Movies.index[0], inplace=True)"
   ]
  },
  {
   "cell_type": "code",
   "execution_count": 47,
   "metadata": {
    "collapsed": false
   },
   "outputs": [
    {
     "data": {
      "text/plain": [
       "American Sniper   NaN\n",
       "Big Hero 6        NaN\n",
       "Divergent         NaN\n",
       "Unbroken          NaN\n",
       "Name: Aishwarya reddy, dtype: float64"
      ]
     },
     "execution_count": 47,
     "metadata": {},
     "output_type": "execute_result"
    }
   ],
   "source": [
    "UnRated_Movies"
   ]
  },
  {
   "cell_type": "markdown",
   "metadata": {},
   "source": [
    "comparing the correlation between me and my classmates"
   ]
  },
  {
   "cell_type": "code",
   "execution_count": 48,
   "metadata": {
    "collapsed": false
   },
   "outputs": [
    {
     "name": "stdout",
     "output_type": "stream",
     "text": [
      "(Aishwarya reddy , Mike) : 0.392465672422\n",
      "Correlation coefficient for :\n",
      "(Aishwarya reddy , HJ SONG) : 0.0768201234901\n",
      "Correlation coefficient for :\n",
      "(Aishwarya reddy , Ryan Hansen) : -0.0212958855\n",
      "Correlation coefficient for :\n",
      "(Aishwarya reddy , Olumuyiwa Durojaiye) : 0.193314770295\n",
      "Correlation coefficient for :\n",
      "(Aishwarya reddy , Charlie) : 0.379581786657\n",
      "Correlation coefficient for :\n",
      "(Aishwarya reddy , Sina Tuy) : 0.354569483426\n",
      "Correlation coefficient for :\n",
      "(Aishwarya reddy , Pavithra Shetty) : 0.13957263156\n",
      "Correlation coefficient for :\n",
      "(Aishwarya reddy , Sara Collins) : 0.188982236505\n",
      "Correlation coefficient for :\n",
      "(Aishwarya reddy , Jonathan Doll) : -0.110656667034\n",
      "Correlation coefficient for :\n",
      "(Aishwarya reddy , saikiran reddy) : 0.349989409523\n",
      "Correlation coefficient for :\n",
      "(Aishwarya reddy , Aishwarya reddy) : 1.0\n",
      "Correlation coefficient for :\n",
      "(Aishwarya reddy , Brant Mullinix) : -0.0697863157799\n",
      "Correlation coefficient for :\n",
      "(Aishwarya reddy , Sai Sampath) : 1.0\n",
      "Correlation coefficient for :\n",
      "(Aishwarya reddy , Suyendra) : -0.114210885717\n",
      "Correlation coefficient for :\n",
      "(Aishwarya reddy , Sai Yallapragada) : -0.0385758374905\n",
      "Correlation coefficient for :\n",
      "(Aishwarya reddy , Akhilesh) : -0.180036010804\n",
      "Correlation coefficient for :\n",
      "(Aishwarya reddy , Sundar Prasad) : 0.188982236505\n",
      "Correlation coefficient for :\n",
      "(Aishwarya reddy , Evan Piercy) : -0.112687233964\n",
      "Correlation coefficient for :\n",
      "(Aishwarya reddy , Jessica Fong) : 0.0845154254729\n",
      "Correlation coefficient for :\n",
      "(Aishwarya reddy , Onsiri Tapsarn) : nan\n",
      "Correlation coefficient for :\n",
      "(Aishwarya reddy , Anirudh Thota) : 0.24152294577\n",
      "Correlation coefficient for :\n",
      "(Aishwarya reddy , Greg Werner) : 0.425213603213\n",
      "Correlation coefficient for :\n"
     ]
    }
   ],
   "source": [
    "a= []\n",
    "for i in range(0, 22, 1): \n",
    "    cor=pearson(M.ix[10], M.ix[i])\n",
    "    print \"(\" + M.index[10] + \" , \" + M.index[i] + \") :\", cor\n",
    "    print \"Correlation coefficient for :\"\n",
    "    a.append(cor)\n",
    "    "
   ]
  },
  {
   "cell_type": "code",
   "execution_count": 65,
   "metadata": {
    "collapsed": false
   },
   "outputs": [],
   "source": [
    "def pred_rate(x, a):\n",
    "    j=0\n",
    "    k=0\n",
    "    for i in range(0, 22, 1):\n",
    "        if x.irow(i)>0 and a[i]>0: \n",
    "            j= j+(a[i]*x.irow(i))\n",
    "            k= k+a[i]\n",
    "        else:\n",
    "            continue\n",
    "    return j/k"
   ]
  },
  {
   "cell_type": "code",
   "execution_count": 66,
   "metadata": {
    "collapsed": false
   },
   "outputs": [
    {
     "name": "stdout",
     "output_type": "stream",
     "text": [
      "American Sniper:  4.1\n",
      "Big Hero 6:  4.3\n",
      "Divergent:  2.9\n",
      "Unbroken:  5.0\n"
     ]
    }
   ],
   "source": [
    "for i in range(0, 4, 1): \n",
    "    x=M[UnRated_Movies.index[i]]\n",
    "    rate=pred_rate(x, a)\n",
    "    print UnRated_Movies.index[i] +\": \", rate.round(1)"
   ]
  },
  {
   "cell_type": "code",
   "execution_count": null,
   "metadata": {
    "collapsed": false
   },
   "outputs": [],
   "source": []
  }
 ],
 "metadata": {
  "kernelspec": {
   "display_name": "Python 2",
   "language": "python",
   "name": "python2"
  },
  "language_info": {
   "codemirror_mode": {
    "name": "ipython",
    "version": 2
   },
   "file_extension": ".py",
   "mimetype": "text/x-python",
   "name": "python",
   "nbconvert_exporter": "python",
   "pygments_lexer": "ipython2",
   "version": "2.7.9"
  }
 },
 "nbformat": 4,
 "nbformat_minor": 0
}
